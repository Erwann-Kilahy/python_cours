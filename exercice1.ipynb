{
  "nbformat": 4,
  "nbformat_minor": 0,
  "metadata": {
    "colab": {
      "name": "exercice1.ipynb",
      "provenance": [],
      "collapsed_sections": []
    },
    "kernelspec": {
      "name": "python3",
      "display_name": "Python 3"
    }
  },
  "cells": [
    {
      "cell_type": "code",
      "metadata": {
        "id": "Gw5cDnB2ISpx",
        "colab_type": "code",
        "outputId": "4822279d-2f6d-4c48-d668-2026aa992aea",
        "colab": {
          "base_uri": "https://localhost:8080/",
          "height": 51
        }
      },
      "source": [
        "class CompteBancaire:\n",
        "  def __init__(self, nom='Erwann', solde=1000):\n",
        "   self.nom = nom\n",
        "   self.solde = solde\n",
        "\n",
        "  def depot(self, somme):\n",
        "   self.solde = self.solde + somme\n",
        "\n",
        "  def retrait(self, somme):\n",
        "    if self.solde < somme:\n",
        "      print (\"Solde insufisant\")\n",
        "    else:\n",
        "      self.solde = self.solde - somme\n",
        "    \n",
        "  def affiche(self):\n",
        "    print (\"Le solde du compte bancaire de \" , self.nom,\" est de \", self.solde,\"€\")\n",
        "\n",
        "compte1 = CompteBancaire('Kilahy', 800)\n",
        "compte1.depot(350)\n",
        "compte1.retrait(200)\n",
        "compte1.affiche()\n",
        "\n",
        "compte2 = CompteBancaire()\n",
        "compte2.depot(25)\n",
        "compte2.affiche()"
      ],
      "execution_count": 0,
      "outputs": [
        {
          "output_type": "stream",
          "text": [
            "Le solde du compte bancaire de  Kilahy  est de  950 €\n",
            "Le solde du compte bancaire de  Erwann  est de  1025 €\n"
          ],
          "name": "stdout"
        }
      ]
    }
  ]
}